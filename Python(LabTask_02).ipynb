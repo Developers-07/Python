{
  "nbformat": 4,
  "nbformat_minor": 0,
  "metadata": {
    "colab": {
      "name": "Python(LabTask-02).ipynb",
      "provenance": [],
      "authorship_tag": "ABX9TyOePsu/wrZEe1cJARXGlZ7W",
      "include_colab_link": true
    },
    "kernelspec": {
      "name": "python3",
      "display_name": "Python 3"
    },
    "language_info": {
      "name": "python"
    }
  },
  "cells": [
    {
      "cell_type": "markdown",
      "metadata": {
        "id": "view-in-github",
        "colab_type": "text"
      },
      "source": [
        "<a href=\"https://colab.research.google.com/github/Developers-07/Python/blob/main/Python(LabTask_02).ipynb\" target=\"_parent\"><img src=\"https://colab.research.google.com/assets/colab-badge.svg\" alt=\"Open In Colab\"/></a>"
      ]
    },
    {
      "cell_type": "markdown",
      "source": [
        "### **User Input for List & Matrix**"
      ],
      "metadata": {
        "id": "FeKnGjTT0SMe"
      }
    },
    {
      "cell_type": "code",
      "source": [
        "arr=[]\n",
        "n=int(input(\"Enter the List size:\"))\n",
        "for i in range(n):\n",
        "  e=int(input())\n",
        "  arr.append(e)\n",
        "#print(arr)\n",
        "for i in range(n):\n",
        "  print(arr[i],end=\" \")"
      ],
      "metadata": {
        "colab": {
          "base_uri": "https://localhost:8080/"
        },
        "id": "gZVadnjO06xS",
        "outputId": "24744684-f0c5-4c6f-af7a-12def5b59d4a"
      },
      "execution_count": null,
      "outputs": [
        {
          "output_type": "stream",
          "name": "stdout",
          "text": [
            "Enter the List size:5\n",
            "1\n",
            "2\n",
            "3\n",
            "4\n",
            "5\n",
            "1 2 3 4 5 "
          ]
        }
      ]
    },
    {
      "cell_type": "code",
      "source": [
        "matrix=[]\n",
        "r=int(input(\"Enter the rows:\"))\n",
        "c=int(input(\"Eenter the colums:\"))\n",
        "for i in range(r):\n",
        "  a=[]\n",
        "  for j in range(c):\n",
        "    e=int(input())\n",
        "    a.append(e)\n",
        "  matrix.append(a)\n",
        "  print()\n",
        "#print(matrix)\n",
        "for i in range(r):\n",
        "  for j in range(c):\n",
        "    print(matrix[i][j],end=\" \")\n",
        "  print()"
      ],
      "metadata": {
        "colab": {
          "base_uri": "https://localhost:8080/"
        },
        "id": "osX5kTGg2cB0",
        "outputId": "7775a237-704f-4d64-f0f8-1efcde0733a2"
      },
      "execution_count": null,
      "outputs": [
        {
          "output_type": "stream",
          "name": "stdout",
          "text": [
            "Enter the rows:2\n",
            "Eenter the colums:3\n",
            "1\n",
            "2\n",
            "3\n",
            "\n",
            "5\n",
            "6\n",
            "7\n",
            "\n",
            "1 2 3 \n",
            "5 6 7 \n"
          ]
        }
      ]
    },
    {
      "cell_type": "code",
      "source": [
        "list=[]\n",
        "n=input()\n",
        "list=n.split(\"\")\n",
        "for i in list:\n",
        "  print((i))"
      ],
      "metadata": {
        "colab": {
          "base_uri": "https://localhost:8080/"
        },
        "id": "KT_QLgMLjklI",
        "outputId": "423d9e86-bc6a-44af-f8f8-908af9e56579"
      },
      "execution_count": null,
      "outputs": [
        {
          "output_type": "stream",
          "name": "stdout",
          "text": [
            "zishan kabir chowdhury\n",
            "zishan\n",
            "kabir\n",
            "chowdhury\n"
          ]
        }
      ]
    },
    {
      "cell_type": "code",
      "source": [
        "m=[\n",
        "   [1,3,5,7],\n",
        "   [2,4,6,8]\n",
        "]\n",
        "for i in m:\n",
        "  for j in i:\n",
        "    print(j,end=\" \")\n",
        "  print(\"\\n\")"
      ],
      "metadata": {
        "id": "pTFp09T3jxVo",
        "colab": {
          "base_uri": "https://localhost:8080/"
        },
        "outputId": "3d4135c4-3759-43e9-8216-efd0427e976e"
      },
      "execution_count": null,
      "outputs": [
        {
          "output_type": "stream",
          "name": "stdout",
          "text": [
            "1 3 5 7 \n",
            "\n",
            "2 4 6 8 \n",
            "\n"
          ]
        }
      ]
    },
    {
      "cell_type": "markdown",
      "source": [
        "## **Dictionary DataStructure**"
      ],
      "metadata": {
        "id": "jpD563udCE9J"
      }
    },
    {
      "cell_type": "code",
      "source": [
        "stid={\n",
        "    1:\"Zishan\",\n",
        "    2:\"Razib\",\n",
        "    3:\"Abir\",\n",
        "    4:\"Faruk\",\n",
        "    5:\"Disha\",\n",
        "    6:\"synthea\"\n",
        "}\n",
        "print(stid)"
      ],
      "metadata": {
        "colab": {
          "base_uri": "https://localhost:8080/"
        },
        "id": "QBxCJmFNCVCH",
        "outputId": "0a050eae-34d7-4601-d0bd-948248150d94"
      },
      "execution_count": null,
      "outputs": [
        {
          "output_type": "stream",
          "name": "stdout",
          "text": [
            "{1: 'Zishan', 2: 'Razib', 3: 'Abir', 4: 'Faruk', 5: 'Disha', 6: 'synthea'}\n"
          ]
        }
      ]
    },
    {
      "cell_type": "code",
      "source": [
        "stid={\n",
        "    1:\"Beauty\",\n",
        "    2:\"Rini\",\n",
        "    3:\"Liza\",\n",
        "    4:\"Riya\",\n",
        "    5:\"Disha\",\n",
        "    6:\"synthea\",\n",
        "    7:\"Nupur\",\n",
        "    8:\"Sawdi\",\n",
        "    9:\"Mili\"\n",
        "}\n",
        "print(stid.get(5,\"Not a valid keyword\"))"
      ],
      "metadata": {
        "colab": {
          "base_uri": "https://localhost:8080/"
        },
        "id": "go610sf4FAzg",
        "outputId": "cce9c6c1-eb3d-4a0d-a114-d91a800dec1d"
      },
      "execution_count": null,
      "outputs": [
        {
          "output_type": "stream",
          "name": "stdout",
          "text": [
            "Disha\n"
          ]
        }
      ]
    },
    {
      "cell_type": "code",
      "source": [
        "dic={}\n",
        "for i in range(3):\n",
        "  k=int(input())\n",
        "  v=input()\n",
        "  dic[k]=v\n",
        "print(dic)"
      ],
      "metadata": {
        "colab": {
          "base_uri": "https://localhost:8080/"
        },
        "id": "xIslOfK4I5Zw",
        "outputId": "9376c044-3ad6-4630-a855-92de496a66b1"
      },
      "execution_count": null,
      "outputs": [
        {
          "output_type": "stream",
          "name": "stdout",
          "text": [
            "1\n",
            "Zishan\n",
            "2\n",
            "Razib\n",
            "3\n",
            "Abir\n",
            "{1: 'Zishan', 2: 'Razib', 3: 'Abir'}\n"
          ]
        }
      ]
    },
    {
      "cell_type": "code",
      "source": [
        "l1=[3,4,6,9]\n",
        "l2=[\"zishan\",\"abir\",\"razib\"]\n",
        "dict={\n",
        "    \"brand\":l1,\n",
        "    \"Name\":l2\n",
        "}\n",
        "print(dict)"
      ],
      "metadata": {
        "colab": {
          "base_uri": "https://localhost:8080/"
        },
        "id": "7t8FJ0P-L4re",
        "outputId": "769b5830-13ff-44f7-89c6-747bb341d8a5"
      },
      "execution_count": null,
      "outputs": [
        {
          "output_type": "stream",
          "name": "stdout",
          "text": [
            "{'brand': [3, 4, 6, 9], 'Name': ['zishan', 'abir', 'razib']}\n"
          ]
        }
      ]
    }
  ]
}
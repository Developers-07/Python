{
  "nbformat": 4,
  "nbformat_minor": 0,
  "metadata": {
    "colab": {
      "name": "Python(LabTask-01).ipynb",
      "provenance": [],
      "authorship_tag": "ABX9TyOwU3goc06LP8l3MhwVC6TO",
      "include_colab_link": true
    },
    "kernelspec": {
      "name": "python3",
      "display_name": "Python 3"
    },
    "language_info": {
      "name": "python"
    }
  },
  "cells": [
    {
      "cell_type": "markdown",
      "metadata": {
        "id": "view-in-github",
        "colab_type": "text"
      },
      "source": [
        "<a href=\"https://colab.research.google.com/github/Developers-07/Python/blob/main/Python(LabTask_01).ipynb\" target=\"_parent\"><img src=\"https://colab.research.google.com/assets/colab-badge.svg\" alt=\"Open In Colab\"/></a>"
      ]
    },
    {
      "cell_type": "markdown",
      "source": [
        "## **if-else statement**"
      ],
      "metadata": {
        "id": "Cf0jwOgizElF"
      }
    },
    {
      "cell_type": "code",
      "source": [
        "a=int(input(\"Enter the first Number:\"))\n",
        "b=int(input(\"Enter the second Number:\"))\n",
        "c=a+b\n",
        "d=float(input(\"What is the summation of two Numbers:\"))\n",
        "if c==d:\n",
        "  print(\"You are right\")\n",
        "else :\n",
        "  print(\"You are wrong\")"
      ],
      "metadata": {
        "colab": {
          "base_uri": "https://localhost:8080/"
        },
        "id": "9KY8poVmzMna",
        "outputId": "311d4bf2-7a77-4c37-bb2b-7612518019b4"
      },
      "execution_count": null,
      "outputs": [
        {
          "output_type": "stream",
          "name": "stdout",
          "text": [
            "Enter the first Number:7\n",
            "Enter the second Number:8\n",
            "What is the summation of two Numbers:15\n",
            "You are right\n"
          ]
        }
      ]
    },
    {
      "cell_type": "code",
      "source": [
        "a=int(input(\"Enter the first Number:\"))\n",
        "b=int(input(\"Enter the second Number:\"))\n",
        "\n",
        "#print(max(a,b),\"is large number\")\n",
        "\n",
        "if a>b:\n",
        "  print(a,\"is large number\")\n",
        "else:\n",
        "  print(b,\"is large number\")"
      ],
      "metadata": {
        "colab": {
          "base_uri": "https://localhost:8080/"
        },
        "id": "Tj09rc_z0gIC",
        "outputId": "35ed7a5d-8d85-41f5-de99-8eaa4ca1d497"
      },
      "execution_count": null,
      "outputs": [
        {
          "output_type": "stream",
          "name": "stdout",
          "text": [
            "Enter the first Number:6\n",
            "Enter the second Number:11\n",
            "11 is large number\n"
          ]
        }
      ]
    },
    {
      "cell_type": "markdown",
      "source": [
        "## Loop Statement"
      ],
      "metadata": {
        "id": "gCzD6puv17Dc"
      }
    },
    {
      "cell_type": "code",
      "source": [
        "a=int(input(\"Enter the Number:\"))\n",
        "for i in range(0,a):\n",
        "  print(i,end=\" \")"
      ],
      "metadata": {
        "colab": {
          "base_uri": "https://localhost:8080/"
        },
        "id": "lRnqmre32JwZ",
        "outputId": "be39bef2-c2ff-427b-e286-db04bf43a7ee"
      },
      "execution_count": null,
      "outputs": [
        {
          "output_type": "stream",
          "name": "stdout",
          "text": [
            "Enter the Number:5\n",
            "0 1 2 3 4 "
          ]
        }
      ]
    },
    {
      "cell_type": "code",
      "source": [
        "a=int(input(\"Enter the Number:\"))\n",
        "i=0\n",
        "while i<a:\n",
        "  print(i,end=\" \")\n",
        "  i=i+1"
      ],
      "metadata": {
        "colab": {
          "base_uri": "https://localhost:8080/"
        },
        "id": "KEv4cN603E7u",
        "outputId": "5d4a105c-0030-4344-b56f-f622e0e82738"
      },
      "execution_count": null,
      "outputs": [
        {
          "output_type": "stream",
          "name": "stdout",
          "text": [
            "Enter the Number:10\n",
            "0 1 2 3 4 5 6 7 8 9 "
          ]
        }
      ]
    },
    {
      "cell_type": "code",
      "source": [
        "n=int(input(\"Enter the Number:\"))\n",
        "for i in range(1,n+1):\n",
        "  if i%3==0:\n",
        "    print(i,end=\" \")\n",
        "    "
      ],
      "metadata": {
        "colab": {
          "base_uri": "https://localhost:8080/"
        },
        "id": "c9qAWMnW3zvC",
        "outputId": "5d6db197-8bfe-4462-8dd7-a867b3cfc33c"
      },
      "execution_count": null,
      "outputs": [
        {
          "output_type": "stream",
          "name": "stdout",
          "text": [
            "Enter the Number:50\n",
            "3 6 9 12 15 18 21 24 27 30 33 36 39 42 45 48 "
          ]
        }
      ]
    },
    {
      "cell_type": "markdown",
      "source": [
        "# List Statement"
      ],
      "metadata": {
        "id": "rmwI54la4puk"
      }
    },
    {
      "cell_type": "code",
      "source": [
        "arr=[3,4,5,7,9]\n",
        "for i in arr:\n",
        "  print(i,end=\" \")\n",
        "print(\"\\n\")\n",
        "arr.append(10)\n",
        "print(\"New array =\",arr)\n",
        "arr.insert(3,6)\n",
        "print(\"New insert array =\",arr)\n",
        "arr.sort()\n",
        "print(\"Sort array =\",arr)\n",
        "arr.reverse()\n",
        "print(\"Reverse array =\",arr)\n"
      ],
      "metadata": {
        "colab": {
          "base_uri": "https://localhost:8080/"
        },
        "id": "D22AmY1h40cg",
        "outputId": "29315fb4-e329-4019-ed91-468cf7fe290e"
      },
      "execution_count": null,
      "outputs": [
        {
          "output_type": "stream",
          "name": "stdout",
          "text": [
            "3 4 5 7 9 \n",
            "\n",
            "New array = [3, 4, 5, 7, 9, 10]\n",
            "New insert array = [3, 4, 5, 6, 7, 9, 10]\n",
            "Sort array = [3, 4, 5, 6, 7, 9, 10]\n",
            "Reverse array = [10, 9, 7, 6, 5, 4, 3]\n"
          ]
        }
      ]
    },
    {
      "cell_type": "markdown",
      "source": [
        "# **Break-Continue Statement**"
      ],
      "metadata": {
        "id": "AtA84qyH6lBJ"
      }
    },
    {
      "cell_type": "code",
      "source": [
        "list=[\"Zishan\",\"Abir\",\"Razib\",\"Faruk\",\"Shanto\"]\n",
        "for i in list:\n",
        "  if i==\"Shanto\":\n",
        "    break\n",
        "  elif i==\"Abir\":\n",
        "    continue\n",
        "  else:\n",
        "    print(i)"
      ],
      "metadata": {
        "colab": {
          "base_uri": "https://localhost:8080/"
        },
        "id": "S-bW5D_h64ro",
        "outputId": "0f90c73e-2be5-42bc-834d-8fb11fe71eba"
      },
      "execution_count": null,
      "outputs": [
        {
          "output_type": "stream",
          "name": "stdout",
          "text": [
            "Zishan\n",
            "Razib\n",
            "Faruk\n"
          ]
        }
      ]
    },
    {
      "cell_type": "code",
      "source": [
        "import random\n",
        "n=int(input(\"Enter a Number:\"))\n",
        "g_num=random.randint(0,10)\n",
        "if n==g_num:\n",
        "  print(\"Right Guess\")\n",
        "else:\n",
        "  print(\"The Guess Number was =\",g_num,\"So Wrong Guess\")\n"
      ],
      "metadata": {
        "colab": {
          "base_uri": "https://localhost:8080/"
        },
        "id": "EcBgyvxV8UcN",
        "outputId": "91f04994-e84d-48c9-e88e-ff346fb6d41c"
      },
      "execution_count": null,
      "outputs": [
        {
          "output_type": "stream",
          "name": "stdout",
          "text": [
            "Enter a Number:7\n",
            "The Guess Number was = 9 So Wrong Guess\n"
          ]
        }
      ]
    },
    {
      "cell_type": "markdown",
      "source": [
        "# ***Problem Solving***"
      ],
      "metadata": {
        "id": "yNEF-NOd-Cr1"
      }
    },
    {
      "cell_type": "markdown",
      "source": [
        "Divisible by 3 and 5"
      ],
      "metadata": {
        "id": "QcwuW_lE-g_U"
      }
    },
    {
      "cell_type": "code",
      "source": [
        "print(\"Enter the Number : \")\n",
        "n=int(input())\n",
        "if n%3==0 and n%5==0:\n",
        "  print(n,\"is divisible by 3 and 5\")\n",
        "else:\n",
        "  print(n,\"is not divisible by 3 and 5\")"
      ],
      "metadata": {
        "colab": {
          "base_uri": "https://localhost:8080/"
        },
        "id": "i0KBUKhH-o8T",
        "outputId": "6da3f18f-a4c3-4cee-afc7-4ba03d334197"
      },
      "execution_count": null,
      "outputs": [
        {
          "output_type": "stream",
          "name": "stdout",
          "text": [
            "Enter the Number : \n",
            "15\n",
            "15 is divisible by 3 and 5\n"
          ]
        }
      ]
    },
    {
      "cell_type": "markdown",
      "source": [
        "Divisible by 13 and 17 in a range"
      ],
      "metadata": {
        "id": "ZM9Sj6x3_nr1"
      }
    },
    {
      "cell_type": "code",
      "source": [
        "print(\"Enter the Starting Number:\")\n",
        "n=int(input())\n",
        "print(\"Enter the Ending Number:\")\n",
        "m=int(input())\n",
        "c=0\n",
        "for i in range(n,m+1):\n",
        "  if i%13==0 and i%17==0:\n",
        "    c=c+1;\n",
        "print(\"Total divisible Number =\",c)\n"
      ],
      "metadata": {
        "colab": {
          "base_uri": "https://localhost:8080/"
        },
        "id": "BZrPjOix_0bQ",
        "outputId": "7572142b-4394-48de-94f8-8d50f50c3e0e"
      },
      "execution_count": null,
      "outputs": [
        {
          "output_type": "stream",
          "name": "stdout",
          "text": [
            "Enter the Starting Number:\n",
            "1\n",
            "Enter the Ending Number:\n",
            "100\n",
            "Total divisible Number = 0\n"
          ]
        }
      ]
    },
    {
      "cell_type": "markdown",
      "source": [
        "# Split,pop,extend,sum Function"
      ],
      "metadata": {
        "id": "snrE1J31H6bk"
      }
    },
    {
      "cell_type": "code",
      "source": [
        "arr=[\"A\",\"B\",\"C\",\"D\",\"E\"]\n",
        "#arr[1:4]\n",
        "print(arr[1:4])"
      ],
      "metadata": {
        "colab": {
          "base_uri": "https://localhost:8080/"
        },
        "id": "NwHYXZnHB3a2",
        "outputId": "0a9384f7-3c1d-49db-dc1d-9a052cf0fc9e"
      },
      "execution_count": null,
      "outputs": [
        {
          "output_type": "stream",
          "name": "stdout",
          "text": [
            "['B', 'C', 'D']\n"
          ]
        }
      ]
    },
    {
      "cell_type": "code",
      "source": [
        "arr=[\"A\",\"B\",\"C\",\"D\",\"E\"]\n",
        "arr.pop()\n",
        "print(arr)\n",
        "arr.append(\"F\")\n",
        "print(arr)"
      ],
      "metadata": {
        "colab": {
          "base_uri": "https://localhost:8080/"
        },
        "id": "EBGGDIMECpgp",
        "outputId": "6c18dcb2-553a-46b6-c58a-2b6b9727d886"
      },
      "execution_count": null,
      "outputs": [
        {
          "output_type": "stream",
          "name": "stdout",
          "text": [
            "['A', 'B', 'C', 'D']\n",
            "['A', 'B', 'C', 'D', 'F']\n"
          ]
        }
      ]
    },
    {
      "cell_type": "code",
      "source": [
        "str=\"My name is Zishan\"\n",
        "arr1=str.split()\n",
        "print(arr1)\n",
        "arr1.append([\"Kabir\",\"Chowdhury\"])\n",
        "print(arr1)"
      ],
      "metadata": {
        "colab": {
          "base_uri": "https://localhost:8080/"
        },
        "id": "hUKBnPrODeFa",
        "outputId": "0e16d2b1-1a60-458c-ae13-8226e105180d"
      },
      "execution_count": null,
      "outputs": [
        {
          "output_type": "stream",
          "name": "stdout",
          "text": [
            "My name is Zishan\n",
            "['My', 'name', 'is', 'Zishan']\n",
            "['My', 'name', 'is', 'Zishan', ['Kabir', 'Chowdhury']]\n"
          ]
        }
      ]
    },
    {
      "cell_type": "code",
      "source": [
        "list=[3,4,5,6]\n",
        "list.extend([7,8,9,10])\n",
        "print(list)\n",
        "print(\"Sum =\",sum(list))"
      ],
      "metadata": {
        "colab": {
          "base_uri": "https://localhost:8080/"
        },
        "id": "Txc_FNEiFHTS",
        "outputId": "20d116c7-ebf8-4cb6-f450-6fd457d5ec87"
      },
      "execution_count": null,
      "outputs": [
        {
          "output_type": "stream",
          "name": "stdout",
          "text": [
            "[3, 4, 5, 6, 7, 8, 9, 10]\n",
            "Sum = 52\n"
          ]
        }
      ]
    },
    {
      "cell_type": "markdown",
      "source": [
        "## **Dictionary**"
      ],
      "metadata": {
        "id": "ybH_mIRle4PQ"
      }
    },
    {
      "cell_type": "code",
      "source": [
        "dictionary ={}\n",
        "\n",
        "for i in range(3):\n",
        "  k=input()\n",
        "  v=input()\n",
        "  dictionary[k]=v\n",
        "\n",
        "print(dictionary)"
      ],
      "metadata": {
        "colab": {
          "base_uri": "https://localhost:8080/"
        },
        "id": "99IO2mEee_Tw",
        "outputId": "8ad153a9-3e23-4e8e-c313-f0381c90c7fe"
      },
      "execution_count": null,
      "outputs": [
        {
          "output_type": "stream",
          "name": "stdout",
          "text": [
            "brand\n",
            "toyota,tata\n",
            "model\n",
            "alion,nano\n",
            "year\n",
            "2010,2015\n",
            "{'brand': 'toyota,tata', 'model': 'alion,nano', 'year': '2010,2015'}\n"
          ]
        }
      ]
    },
    {
      "cell_type": "code",
      "source": [
        "list1=[\"Bazaz\",\"TVS\",\"Honda\"]\n",
        "list2=[\"Platina\",\"Stryker\",\"Livo\"]\n",
        "list3=[\"2012\",\"2010\",\"2018\"]\n",
        "dict={\n",
        "    \"brand\":list1,\n",
        "    \"model\":list2,\n",
        "    \"year\":list3\n",
        "}\n",
        "dict"
      ],
      "metadata": {
        "colab": {
          "base_uri": "https://localhost:8080/"
        },
        "id": "wWVb1C9GlaeX",
        "outputId": "c5dd9a20-bf97-4de5-f262-48af080ac1cb"
      },
      "execution_count": null,
      "outputs": [
        {
          "output_type": "execute_result",
          "data": {
            "text/plain": [
              "{'brand': ['Bazaz', 'TVS', 'Honda'],\n",
              " 'model': ['Platina', 'Stryker', 'Livo'],\n",
              " 'year': ['2012', '2010', '2018']}"
            ]
          },
          "metadata": {},
          "execution_count": 8
        }
      ]
    },
    {
      "cell_type": "code",
      "source": [
        "import pandas as pd\n",
        "df=pd.DataFrame(dict)\n",
        "df"
      ],
      "metadata": {
        "colab": {
          "base_uri": "https://localhost:8080/",
          "height": 142
        },
        "id": "GOnCyGhvmi8P",
        "outputId": "7dbf63ef-03c7-4aea-93f5-9770aed40189"
      },
      "execution_count": null,
      "outputs": [
        {
          "output_type": "execute_result",
          "data": {
            "text/html": [
              "\n",
              "  <div id=\"df-617af748-350e-48d4-b82e-a932fee7598b\">\n",
              "    <div class=\"colab-df-container\">\n",
              "      <div>\n",
              "<style scoped>\n",
              "    .dataframe tbody tr th:only-of-type {\n",
              "        vertical-align: middle;\n",
              "    }\n",
              "\n",
              "    .dataframe tbody tr th {\n",
              "        vertical-align: top;\n",
              "    }\n",
              "\n",
              "    .dataframe thead th {\n",
              "        text-align: right;\n",
              "    }\n",
              "</style>\n",
              "<table border=\"1\" class=\"dataframe\">\n",
              "  <thead>\n",
              "    <tr style=\"text-align: right;\">\n",
              "      <th></th>\n",
              "      <th>brand</th>\n",
              "      <th>model</th>\n",
              "      <th>year</th>\n",
              "    </tr>\n",
              "  </thead>\n",
              "  <tbody>\n",
              "    <tr>\n",
              "      <th>0</th>\n",
              "      <td>Bazaz</td>\n",
              "      <td>Platina</td>\n",
              "      <td>2012</td>\n",
              "    </tr>\n",
              "    <tr>\n",
              "      <th>1</th>\n",
              "      <td>TVS</td>\n",
              "      <td>Stryker</td>\n",
              "      <td>2010</td>\n",
              "    </tr>\n",
              "    <tr>\n",
              "      <th>2</th>\n",
              "      <td>Honda</td>\n",
              "      <td>Livo</td>\n",
              "      <td>2018</td>\n",
              "    </tr>\n",
              "  </tbody>\n",
              "</table>\n",
              "</div>\n",
              "      <button class=\"colab-df-convert\" onclick=\"convertToInteractive('df-617af748-350e-48d4-b82e-a932fee7598b')\"\n",
              "              title=\"Convert this dataframe to an interactive table.\"\n",
              "              style=\"display:none;\">\n",
              "        \n",
              "  <svg xmlns=\"http://www.w3.org/2000/svg\" height=\"24px\"viewBox=\"0 0 24 24\"\n",
              "       width=\"24px\">\n",
              "    <path d=\"M0 0h24v24H0V0z\" fill=\"none\"/>\n",
              "    <path d=\"M18.56 5.44l.94 2.06.94-2.06 2.06-.94-2.06-.94-.94-2.06-.94 2.06-2.06.94zm-11 1L8.5 8.5l.94-2.06 2.06-.94-2.06-.94L8.5 2.5l-.94 2.06-2.06.94zm10 10l.94 2.06.94-2.06 2.06-.94-2.06-.94-.94-2.06-.94 2.06-2.06.94z\"/><path d=\"M17.41 7.96l-1.37-1.37c-.4-.4-.92-.59-1.43-.59-.52 0-1.04.2-1.43.59L10.3 9.45l-7.72 7.72c-.78.78-.78 2.05 0 2.83L4 21.41c.39.39.9.59 1.41.59.51 0 1.02-.2 1.41-.59l7.78-7.78 2.81-2.81c.8-.78.8-2.07 0-2.86zM5.41 20L4 18.59l7.72-7.72 1.47 1.35L5.41 20z\"/>\n",
              "  </svg>\n",
              "      </button>\n",
              "      \n",
              "  <style>\n",
              "    .colab-df-container {\n",
              "      display:flex;\n",
              "      flex-wrap:wrap;\n",
              "      gap: 12px;\n",
              "    }\n",
              "\n",
              "    .colab-df-convert {\n",
              "      background-color: #E8F0FE;\n",
              "      border: none;\n",
              "      border-radius: 50%;\n",
              "      cursor: pointer;\n",
              "      display: none;\n",
              "      fill: #1967D2;\n",
              "      height: 32px;\n",
              "      padding: 0 0 0 0;\n",
              "      width: 32px;\n",
              "    }\n",
              "\n",
              "    .colab-df-convert:hover {\n",
              "      background-color: #E2EBFA;\n",
              "      box-shadow: 0px 1px 2px rgba(60, 64, 67, 0.3), 0px 1px 3px 1px rgba(60, 64, 67, 0.15);\n",
              "      fill: #174EA6;\n",
              "    }\n",
              "\n",
              "    [theme=dark] .colab-df-convert {\n",
              "      background-color: #3B4455;\n",
              "      fill: #D2E3FC;\n",
              "    }\n",
              "\n",
              "    [theme=dark] .colab-df-convert:hover {\n",
              "      background-color: #434B5C;\n",
              "      box-shadow: 0px 1px 3px 1px rgba(0, 0, 0, 0.15);\n",
              "      filter: drop-shadow(0px 1px 2px rgba(0, 0, 0, 0.3));\n",
              "      fill: #FFFFFF;\n",
              "    }\n",
              "  </style>\n",
              "\n",
              "      <script>\n",
              "        const buttonEl =\n",
              "          document.querySelector('#df-617af748-350e-48d4-b82e-a932fee7598b button.colab-df-convert');\n",
              "        buttonEl.style.display =\n",
              "          google.colab.kernel.accessAllowed ? 'block' : 'none';\n",
              "\n",
              "        async function convertToInteractive(key) {\n",
              "          const element = document.querySelector('#df-617af748-350e-48d4-b82e-a932fee7598b');\n",
              "          const dataTable =\n",
              "            await google.colab.kernel.invokeFunction('convertToInteractive',\n",
              "                                                     [key], {});\n",
              "          if (!dataTable) return;\n",
              "\n",
              "          const docLinkHtml = 'Like what you see? Visit the ' +\n",
              "            '<a target=\"_blank\" href=https://colab.research.google.com/notebooks/data_table.ipynb>data table notebook</a>'\n",
              "            + ' to learn more about interactive tables.';\n",
              "          element.innerHTML = '';\n",
              "          dataTable['output_type'] = 'display_data';\n",
              "          await google.colab.output.renderOutput(dataTable, element);\n",
              "          const docLink = document.createElement('div');\n",
              "          docLink.innerHTML = docLinkHtml;\n",
              "          element.appendChild(docLink);\n",
              "        }\n",
              "      </script>\n",
              "    </div>\n",
              "  </div>\n",
              "  "
            ],
            "text/plain": [
              "   brand    model  year\n",
              "0  Bazaz  Platina  2012\n",
              "1    TVS  Stryker  2010\n",
              "2  Honda     Livo  2018"
            ]
          },
          "metadata": {},
          "execution_count": 11
        }
      ]
    }
  ]
}